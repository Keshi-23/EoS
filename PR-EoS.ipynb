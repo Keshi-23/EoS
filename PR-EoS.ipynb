{
 "cells": [
  {
   "cell_type": "code",
   "execution_count": 37,
   "id": "a1781b09-5ff1-40d6-bce9-b134ab904663",
   "metadata": {},
   "outputs": [],
   "source": [
    "import numpy as np\n",
    "import pandas as pd\n",
    "import sympy as sp\n",
    "from sympy import *\n",
    "import math"
   ]
  },
  {
   "cell_type": "code",
   "execution_count": 38,
   "id": "752874d3-58b9-47f0-80c2-f6807e5e9fd1",
   "metadata": {},
   "outputs": [
    {
     "name": "stdout",
     "output_type": "stream",
     "text": [
      "For Pressure: 750.0 psia  and Temperature: -70.0 Farenheit\n"
     ]
    }
   ],
   "source": [
    "#Input Pressure and Temperature values\n",
    "P = float(input(\"Enter pressure in psia:\")) # psia\n",
    "T = float(input(\"Enter Temperature in Farenheit: \")) # Farenheit\n",
    "\n",
    "print(f'For Pressure: {P} psia  and Temperature: {T} Farenheit' )"
   ]
  },
  {
   "cell_type": "code",
   "execution_count": 39,
   "id": "aef0a3f0-ab8e-41b9-b6d6-e67c4f13b440",
   "metadata": {},
   "outputs": [
    {
     "data": {
      "text/html": [
       "<div>\n",
       "<style scoped>\n",
       "    .dataframe tbody tr th:only-of-type {\n",
       "        vertical-align: middle;\n",
       "    }\n",
       "\n",
       "    .dataframe tbody tr th {\n",
       "        vertical-align: top;\n",
       "    }\n",
       "\n",
       "    .dataframe thead th {\n",
       "        text-align: right;\n",
       "    }\n",
       "</style>\n",
       "<table border=\"1\" class=\"dataframe\">\n",
       "  <thead>\n",
       "    <tr style=\"text-align: right;\">\n",
       "      <th></th>\n",
       "      <th>component</th>\n",
       "      <th>composition</th>\n",
       "      <th>Pci</th>\n",
       "      <th>Tci</th>\n",
       "      <th>wi</th>\n",
       "      <th>Mwi</th>\n",
       "      <th>Vci</th>\n",
       "    </tr>\n",
       "  </thead>\n",
       "  <tbody>\n",
       "    <tr>\n",
       "      <th>0</th>\n",
       "      <td>N2</td>\n",
       "      <td>0.0200</td>\n",
       "      <td>493.1</td>\n",
       "      <td>227.49</td>\n",
       "      <td>0.040</td>\n",
       "      <td>28.013</td>\n",
       "      <td>0.0510</td>\n",
       "    </tr>\n",
       "    <tr>\n",
       "      <th>1</th>\n",
       "      <td>C1</td>\n",
       "      <td>0.8866</td>\n",
       "      <td>666.4</td>\n",
       "      <td>343.33</td>\n",
       "      <td>0.008</td>\n",
       "      <td>16.043</td>\n",
       "      <td>0.0988</td>\n",
       "    </tr>\n",
       "    <tr>\n",
       "      <th>2</th>\n",
       "      <td>C2</td>\n",
       "      <td>0.0492</td>\n",
       "      <td>706.5</td>\n",
       "      <td>549.92</td>\n",
       "      <td>0.098</td>\n",
       "      <td>30.070</td>\n",
       "      <td>0.0783</td>\n",
       "    </tr>\n",
       "    <tr>\n",
       "      <th>3</th>\n",
       "      <td>C3</td>\n",
       "      <td>0.0246</td>\n",
       "      <td>616.0</td>\n",
       "      <td>666.06</td>\n",
       "      <td>0.152</td>\n",
       "      <td>44.097</td>\n",
       "      <td>0.0727</td>\n",
       "    </tr>\n",
       "    <tr>\n",
       "      <th>4</th>\n",
       "      <td>nC4</td>\n",
       "      <td>0.0098</td>\n",
       "      <td>550.6</td>\n",
       "      <td>765.62</td>\n",
       "      <td>0.193</td>\n",
       "      <td>58.123</td>\n",
       "      <td>0.0703</td>\n",
       "    </tr>\n",
       "    <tr>\n",
       "      <th>5</th>\n",
       "      <td>nC5</td>\n",
       "      <td>0.0098</td>\n",
       "      <td>488.6</td>\n",
       "      <td>845.80</td>\n",
       "      <td>0.251</td>\n",
       "      <td>72.151</td>\n",
       "      <td>0.0675</td>\n",
       "    </tr>\n",
       "  </tbody>\n",
       "</table>\n",
       "</div>"
      ],
      "text/plain": [
       "  component  composition    Pci     Tci     wi     Mwi     Vci\n",
       "0        N2       0.0200  493.1  227.49  0.040  28.013  0.0510\n",
       "1        C1       0.8866  666.4  343.33  0.008  16.043  0.0988\n",
       "2        C2       0.0492  706.5  549.92  0.098  30.070  0.0783\n",
       "3        C3       0.0246  616.0  666.06  0.152  44.097  0.0727\n",
       "4       nC4       0.0098  550.6  765.62  0.193  58.123  0.0703\n",
       "5       nC5       0.0098  488.6  845.80  0.251  72.151  0.0675"
      ]
     },
     "execution_count": 39,
     "metadata": {},
     "output_type": "execute_result"
    }
   ],
   "source": [
    "#Import Components Properties\n",
    "component_properties = pd.read_excel(\"components.xlsx\")\n",
    "component_properties"
   ]
  },
  {
   "cell_type": "code",
   "execution_count": 40,
   "id": "0bf90c48-9648-456f-acbb-a2737e280278",
   "metadata": {},
   "outputs": [
    {
     "data": {
      "text/plain": [
       "array([[0.    , 0.018 , 0.039 , 0.046 , 0.047 , 0.048 ],\n",
       "       [0.018 , 0.    , 0.005 , 0.01  , 0.0145, 0.0182],\n",
       "       [0.039 , 0.005 , 0.    , 0.0017, 0.0032, 0.0048],\n",
       "       [0.046 , 0.01  , 0.0017, 0.    , 0.0012, 0.0024],\n",
       "       [0.047 , 0.0145, 0.0032, 0.0012, 0.    , 0.0008],\n",
       "       [0.048 , 0.0182, 0.0048, 0.0024, 0.0008, 0.    ]])"
      ]
     },
     "execution_count": 40,
     "metadata": {},
     "output_type": "execute_result"
    }
   ],
   "source": [
    "#Import binary coefficients\n",
    "d= pd.read_excel(\"binary.xlsx\").to_numpy()\n",
    "d"
   ]
  },
  {
   "cell_type": "code",
   "execution_count": 41,
   "id": "7c246194-2afe-4652-95b2-e0bdc5f44e6d",
   "metadata": {},
   "outputs": [
    {
     "name": "stdout",
     "output_type": "stream",
     "text": [
      "Reduced Pressure,  Pri:\n",
      " 0    1.520990\n",
      "1    1.125450\n",
      "2    1.061571\n",
      "3    1.217532\n",
      "4    1.362150\n",
      "5    1.534998\n",
      "Name: Pci, dtype: float64\n",
      "Reduced Temperature, Tri:\n",
      " 0    1.712910\n",
      "1    1.134972\n",
      "2    0.708594\n",
      "3    0.585037\n",
      "4    0.508960\n",
      "5    0.460712\n",
      "Name: Tci, dtype: float64\n"
     ]
    }
   ],
   "source": [
    "Pci = component_properties['Pci'] \n",
    "Tci = component_properties['Tci']\n",
    "\n",
    "Pri= P/Pci\n",
    "Tri= (T+459.67 )/Tci\n",
    "\n",
    "print('Reduced Pressure,  Pri:\\n', Pri)\n",
    "print('Reduced Temperature, Tri:\\n',Tri)"
   ]
  },
  {
   "cell_type": "code",
   "execution_count": 42,
   "id": "e009b12c-a28c-4a68-b604-910c6b7d9577",
   "metadata": {},
   "outputs": [
    {
     "name": "stdout",
     "output_type": "stream",
     "text": [
      "Ai: [0.17688642 0.37927951 1.13501871 2.12458098 3.41173111 5.09117878]\n",
      "Bi: [0.06907951 0.07714339 0.1165492  0.16190289 0.20820877 0.2592007 ]\n"
     ]
    }
   ],
   "source": [
    "wi = component_properties['wi'] #accentric factor\n",
    "\n",
    "w_a = 0.45723553\n",
    "w_b = 0.07779607\n",
    "\n",
    "for i in wi:\n",
    "    if i<0.49:\n",
    "        mi = 0.3796+1.54226*wi-0.2699*wi**2\n",
    "    else:\n",
    "        mi = 0.379642+1.48503*wi-0.164423*wi**2+0.016667*wi**3\n",
    "        \n",
    "Ai =(w_a*(1+mi*(1-Tri**0.5))**2*(Pri/Tri**2)).replace(np.nan,0).to_numpy()\n",
    "Bi = ((w_b*Pri)/Tri).to_numpy()\n",
    "print('Ai:',Ai)\n",
    "print('Bi:',Bi)"
   ]
  },
  {
   "cell_type": "code",
   "execution_count": 43,
   "id": "3824612e-a3f3-4fb7-9754-ad53986086ce",
   "metadata": {},
   "outputs": [
    {
     "name": "stdout",
     "output_type": "stream",
     "text": [
      "A : 0.46468266556708404\n",
      "B : 0.08407456358023657\n"
     ]
    }
   ],
   "source": [
    "#Calculating A and B\n",
    "\n",
    "c = component_properties['composition'].to_numpy()\n",
    "n= len(c)\n",
    "\n",
    "B =  np.sum(c * Bi)\n",
    "\n",
    "A=0\n",
    "for i in range (n):\n",
    "    for j in range (n):\n",
    "        A += (1-d[i,j])*(Ai[i]*Ai[j])**0.5*c[i]*c[j] \n",
    "        \n",
    "print('A :', A)\n",
    "print('B :', B)"
   ]
  },
  {
   "cell_type": "code",
   "execution_count": 44,
   "id": "1c2f29b9-1270-43c2-a46a-1aa7c08cf2c8",
   "metadata": {},
   "outputs": [
    {
     "name": "stdout",
     "output_type": "stream",
     "text": [
      "For Pressure: 750.0 psia  and Temperature: -70.0 Farenheit\n",
      "                          A: 0.4647\n",
      "                          B: 0.0841\n",
      "                          Z: [0.47630776+0.j         0.21980884+0.13273547j 0.21980884-0.13273547j]\n",
      "                      Z_max: 0.4763077590654529\n",
      "                      Z_min: 0.21980883867715534\n"
     ]
    }
   ],
   "source": [
    "#Calculating Z \n",
    "\n",
    "m1 = 1+2**0.5\n",
    "m2 = 1-2**0.5\n",
    "p=1\n",
    "q=(m1+m2-1)*B-1\n",
    "r=(A+m1*m2*B**2-(m1+m2)*B*(B+1))\n",
    "s=-A*B-m1*m2*B**2*(B+1)\n",
    "\n",
    "Z = np.roots([p, q, r, s])\n",
    "\n",
    "print(f'For Pressure: {P} psia  and Temperature: {T} Farenheit' )\n",
    "print('                          A:', round(A,4))\n",
    "print('                          B:', round(B,4))\n",
    "print('                          Z:', Z)        \n",
    "print('                      Z_max:', max(np.real(Z)))\n",
    "print('                      Z_min:', min(np.real(Z)))\n"
   ]
  },
  {
   "attachments": {},
   "cell_type": "markdown",
   "id": "20b2ea8e",
   "metadata": {},
   "source": [
    "# Wilsons Correlation , K-Values "
   ]
  },
  {
   "cell_type": "code",
   "execution_count": 45,
   "id": "0e2d108f-0b3a-4b1a-a181-d0f1ce847eaf",
   "metadata": {},
   "outputs": [
    {
     "data": {
      "text/plain": [
       "0    6.719563\n",
       "1    1.691359\n",
       "2    0.083362\n",
       "3    0.010207\n",
       "4    0.001519\n",
       "5    0.000250\n",
       "dtype: float64"
      ]
     },
     "execution_count": 45,
     "metadata": {},
     "output_type": "execute_result"
    }
   ],
   "source": [
    "\n",
    "Ki = (1/Pri)*((5.37*(1+wi)*(1-(1/Tri))).apply(math.exp))\n",
    "\n",
    "Ki "
   ]
  },
  {
   "cell_type": "code",
   "execution_count": null,
   "id": "1dda1886",
   "metadata": {},
   "outputs": [],
   "source": []
  },
  {
   "attachments": {},
   "cell_type": "markdown",
   "id": "e1d91e4d",
   "metadata": {},
   "source": [
    "# Composition of Liquid and Vapour phase "
   ]
  },
  {
   "cell_type": "code",
   "execution_count": 46,
   "id": "421e03ce",
   "metadata": {},
   "outputs": [
    {
     "name": "stdout",
     "output_type": "stream",
     "text": [
      "Composition in vapor phase is: 0.8162445401238981\n",
      "Composition in liquid phase is: 0.18375545987610187\n"
     ]
    }
   ],
   "source": [
    "g_V = lambda v:sum(c*(Ki - 1)/(v*(Ki - 1)+1))\n",
    "dg_V = lambda v:-sum(c*((Ki-1)**2)/((v*(Ki-1) + 1)**2))\n",
    "\n",
    "A = sum(c*(Ki-1))\n",
    "B = sum(c*(Ki-1)/Ki)\n",
    "\n",
    "v = A/(A - B) \n",
    "\n",
    "while abs(g_V(v))>0.0001:\n",
    "    v = v - g_V(v)/dg_V(v)\n",
    "\n",
    "l = 1 - v\n",
    "\n",
    "print(f\"Composition in vapor phase is: {v}\")\n",
    "print(f\"Composition in liquid phase is: {l}\")\n",
    "\n"
   ]
  },
  {
   "attachments": {},
   "cell_type": "markdown",
   "id": "1d1815c8",
   "metadata": {},
   "source": [
    "# Calculation of A and B in liquid and vapour phase"
   ]
  },
  {
   "cell_type": "code",
   "execution_count": 47,
   "metadata": {},
   "outputs": [
    {
     "name": "stdout",
     "output_type": "stream",
     "text": [
      "A in Vapour phase 0.38411505086615205 and liquid phase 0.9281720994359663\n",
      "B in Vapour phase 0.07771783257839684 and liquid phase 0.11231125911454326\n"
     ]
    }
   ],
   "source": [
    "Xi = c/(1 + v*(Ki-1))\n",
    "Yi = Xi*Ki\n",
    "\n",
    "def Aa(c):\n",
    "    return [sum(c[i]*c*(Ai[i]*Ai)**0.5) for i in range(len(c))]\n",
    "\n",
    "Al = sum(Aa(Xi))\n",
    "Av = sum(Aa(Yi))\n",
    "Bl = sum(Xi*Bi)\n",
    "Bv = sum(Yi*Bi)\n",
    "\n",
    "print(f\"A in Vapour phase {Av} and liquid phase {Al}\")\n",
    "print(f\"B in Vapour phase {Bv} and liquid phase {Bl}\")\n"
   ]
  },
  {
   "cell_type": "code",
   "execution_count": 48,
   "id": "bf6152f9",
   "metadata": {},
   "outputs": [],
   "source": [
    "\n",
    "# m1 = 1+2**0.5\n",
    "# m2 = 1-2**0.5\n",
    "\n",
    "# #Vapour Phase \n",
    "# p=1\n",
    "# q=(m1+m2-1)*Bv-1\n",
    "# r=(Av+m1*m2*Bv**2-(m1+m2)*Bv*(Bv+1))\n",
    "# s=-Av*Bv-m1*m2*Bv**2*(Bv+1)\n",
    "\n",
    "# Zv = np.roots([p, q, r, s])\n",
    "\n",
    "# print('Vapour Phase compressibility factor, Zv:', np.real(Zv))\n",
    "\n",
    "# Zv = max(Zv)\n",
    "# print('Vapour Phase :', np.real(Zv))\n",
    "\n",
    "# #Liquid phase \n",
    "# t=1\n",
    "# u=(m1+m2-1)*Bl-1\n",
    "# w=(Al+m1*m2*Bl**2-(m1+m2)*Bl*(Bl+1))\n",
    "# x=-Al*Bl-m1*m2*Bl**2*(Bl+1)\n",
    "\n",
    "# Zl = np.roots([t, u, w, x])\n",
    "\n",
    "# for i in range(len(Zl)):\n",
    "#     if np.isreal(Zl[i]):\n",
    "#         print('Liquid Phase compressibility factor, Zl:', np.real(Zl[i]))\n",
    "\n",
    "\n"
   ]
  },
  {
   "attachments": {},
   "cell_type": "markdown",
   "id": "8a426ebf",
   "metadata": {},
   "source": [
    "# Compresibility of Liquid and Vapour Phase #"
   ]
  },
  {
   "cell_type": "code",
   "execution_count": 49,
   "id": "5cd7a61c",
   "metadata": {},
   "outputs": [
    {
     "name": "stdout",
     "output_type": "stream",
     "text": [
      "Vapour Phase compressibility factor, Zv: 0.655336658918527\n",
      "Liquid Phase compressibility factor, Zl: 0.165103530488731\n"
     ]
    }
   ],
   "source": [
    "Zl, Zv = symbols(\"Zl Zv\")\n",
    "f_Zl = Zl**3+(Bl-1)*Zl**2+(Al-3*(Bl)**2-2*Bl)*Zl-(Al*Bl-(Bl)**2-(Bl)**3)\n",
    "f_Zv = Zv**3+(Bv-1)*Zv**2+(Av-3*(Bv)**2-2*Bv)*Zv-(Av*Bv-(Bv)**2-(Bv)**3)\n",
    "Zl = solve(f_Zl,Zl)\n",
    "Zv = solve(f_Zv,Zv)\n",
    "\n",
    "# eliminate complex roots:\n",
    "Zl = min([i for i in Zl if sp.im(i)==0]) # compressibility factor of liquid phase\n",
    "Zv = max([i for i in Zv if sp.im(i)==0]) # compressibility factor of vapour phase\n",
    "print(f\"Vapour Phase compressibility factor, Zv: {Zv}\")\n",
    "print(f\"Liquid Phase compressibility factor, Zl: {Zl}\")"
   ]
  },
  {
   "attachments": {},
   "cell_type": "markdown",
   "id": "ecd6d607",
   "metadata": {},
   "source": [
    "# Fugacity coefficients  and K-values correction # "
   ]
  },
  {
   "cell_type": "code",
   "execution_count": 50,
   "metadata": {},
   "outputs": [
    {
     "name": "stdout",
     "output_type": "stream",
     "text": [
      "Previous , Ki : [6.71956334e+00 1.69135883e+00 8.33622357e-02 1.02070181e-02\n",
      " 1.51868639e-03 2.50472233e-04]\n",
      "===================================================================================\n",
      "Corrected, K_i : [15.24759507  7.3343337   3.23387821  2.53843609  6.63289471  4.0133977 ]\n",
      "Corrected, K_ii: [15.24759507  7.3343337   3.23387821  2.53843609  6.63289471  4.0133977 ]\n",
      " e_c : 275844159.4936266\n"
     ]
    }
   ],
   "source": [
    "#fugacity of vapour phase  \n",
    "phiv=(-math.log(Zv-Bv)+(Av/((m1-m2)*Bv)*(2*Ai*Yi/Av)-(Bi/Bv))*log(((Zv+m2*Bv)/(Zv+m1*Bv)))+Bi/Bv*(Zv-1)).apply(math.exp)\n",
    "\n",
    "#fugacity of liquid phase  \n",
    "phil=(-math.log(Zl-Bl)+(Al/((m1-m2)*Bl)*(2*Ai*Xi/Al)-(Bi/Bl))*log(((Zl+m2*Bl)/(Zl+m1*Bl)))+Bi/Bl*(Zl-1)).apply(math.exp)\n",
    "\n",
    "\n",
    "# Equilibrium ratio:\n",
    "K_i = (phil/phiv)\n",
    "\n",
    "# print(f\"fugacity co-eff of Vapour : {phiv}\")\n",
    "# print(f\"fugacity co-eff of Liquid : {phil}\")\n",
    "\n",
    "## Equilibrium ratio anotherway\n",
    "fv=phiv*Yi*P\n",
    "fl=phil*Xi*P\n",
    "K_ii = (Yi/Xi)*(fl/fv)\n",
    "e_c=sum(((fl/fv)-1)**2)\n",
    "\n",
    "print(f\"Previous , Ki : {Ki.to_numpy()}\")\n",
    "print(f\"===================================================================================\")\n",
    "print(f\"Corrected, K_i : {K_i.to_numpy()}\")\n",
    "print(f\"Corrected, K_ii: {K_ii.to_numpy()}\")\n",
    "print(f\" e_c : {e_c}\")"
   ]
  },
  {
   "cell_type": "code",
   "execution_count": 51,
   "id": "4a1abea6",
   "metadata": {},
   "outputs": [],
   "source": [
    "# iteration = 0.1\n",
    "# K_i = Ki\n",
    "\n",
    "# while iteration > 0.000000000000001:\n",
    "#     Ki = K_i\n",
    "#     g_V = lambda v:sum(c*(Ki - 1)/(v*(Ki - 1)+1))\n",
    "#     dg_V = lambda v:-sum(c*((Ki-1)**2)/((v*(Ki-1) + 1)**2))\n",
    "\n",
    "#     A = sum(c*(Ki-1))\n",
    "#     B = sum(c*(Ki-1)/Ki)\n",
    "\n",
    "#     v = A/(A - B) \n",
    "\n",
    "#     while abs(g_V(v))>0.0001:\n",
    "#         v = v - g_V(v)/dg_V(v)\n",
    "#     l = 1 - v\n",
    "    \n",
    "#     Xi = c/(1 + v*(Ki-1))\n",
    "#     Yi = Xi*Ki\n",
    "\n",
    "#     def Aa(c):\n",
    "#         return [sum(c[i]*c*(Ai[i]*Ai)**0.5) for i in range(len(c))]\n",
    "\n",
    "#     Al = sum(Aa(Xi))\n",
    "#     Av = sum(Aa(Yi))\n",
    "#     Bl = sum(Xi*Bi)\n",
    "#     Bv = sum(Yi*Bi)\n",
    "    \n",
    "#     Zl, Zv = symbols(\"Zl Zv\")\n",
    "#     f_Zl = Zl**3+(Bl-1)*Zl**2+(Al-3*(Bl)**2-2*Bl)*Zl-(Al*Bl-(Bl)**2-(Bl)**3)\n",
    "#     f_Zv = Zv**3+(Bv-1)*Zv**2+(Av-3*(Bv)**2-2*Bv)*Zv-(Av*Bv-(Bv)**2-(Bv)**3)\n",
    "#     Zl = solve(f_Zl,Zl)\n",
    "#     Zv = solve(f_Zv,Zv)\n",
    "\n",
    "#     # eliminate complex roots:\n",
    "#     Zl = min([i for i in Zl if sp.im(i)==0]) \n",
    "#     Zv = max([i for i in Zv if sp.im(i)==0])\n",
    "\n",
    "#     phiv=(-math.log(Zv-Bv)+(Av/((m1-m2)*Bv)*(2*Ai*Yi/Av)-(Bi/Bv))*log(((Zv+m2*Bv)/(Zv+m1*Bv)))+Bi/Bv*(Zv-1)).apply(math.exp)\n",
    "#     phil=(-math.log(Zl-Bl)+(Al/((m1-m2)*Bl)*(2*Ai*Xi/Al)-(Bi/Bl))*log(((Zl+m2*Bl)/(Zl+m1*Bl)))+Bi/Bl*(Zl-1)).apply(math.exp)\n",
    "\n",
    "#     # Equilibrium ratio:\n",
    "#     K_i = (phil/phiv)\n",
    "#     iteration=sum(((fl/fv)-1)**2)\n",
    "# iteration\n"
   ]
  },
  {
   "attachments": {},
   "cell_type": "markdown",
   "id": "2536fabd",
   "metadata": {},
   "source": [
    "# Density Calculation "
   ]
  },
  {
   "cell_type": "code",
   "execution_count": 52,
   "id": "dfdbafce",
   "metadata": {},
   "outputs": [
    {
     "name": "stdout",
     "output_type": "stream",
     "text": [
      "Density of Liquid : 30.0233057369810\n",
      "Density of Vapour : 4.54218560520595\n"
     ]
    }
   ],
   "source": [
    "R= 10.731\n",
    "Tk = T + 459.67 #in Rankine\n",
    "Mwi= component_properties.Mwi\n",
    "Mwl = sum(Xi*Mwi) # apparent molecular weight of liquid phase\n",
    "Mwv = sum(Yi*Mwi) # apparent molecular weight of vapour phase\n",
    "dl=(P*Mwl)/(R*Tk*Zl) #liquid density\n",
    "dv=(P*Mwv)/(R*Tk*Zv) #vapor density\n",
    "\n",
    "print(f\"Density of Liquid : {dl}\")\n",
    "print(f\"Density of Vapour : {dv}\")\n"
   ]
  },
  {
   "attachments": {},
   "cell_type": "markdown",
   "id": "3f6c8525",
   "metadata": {},
   "source": [
    "# Viscosity Calculation"
   ]
  },
  {
   "cell_type": "code",
   "execution_count": 53,
   "id": "e0660308",
   "metadata": {},
   "outputs": [
    {
     "name": "stdout",
     "output_type": "stream",
     "text": [
      "Viscosity of Vapour : 0.008217821871890595\n",
      "Viscosity of Liquid : 0.0435165725876566\n"
     ]
    }
   ],
   "source": [
    "for i in range (n):\n",
    "    Vpc = sum(component_properties.Vci* Xi)\n",
    "    Tpc = sum(Xi* Tci)\n",
    "    Ppc =sum(Xi*Pci)\n",
    "\n",
    "    Ei=5.4402*Tci**(1/6)/(Mwl**0.5*Pci**(2/3))\n",
    "\n",
    "    if Tri[i]<=1.5:\n",
    "        usi=34*10**(-5)*(Tri)**0.94/Ei\n",
    "    elif Tri[i]>1.5:\n",
    "        usi=(17.78*10**(-5)*(4.58*Tri-1.67)**0.625)/Ei\n",
    "    us1 =Xi*usi*(Mwi**0.5)\n",
    "    us2 =Xi*(Mwi**0.5)\n",
    "    us = us1/us2\n",
    "\n",
    "\n",
    "dr=Vpc*(dl/Mwl)\n",
    "xv=3.5+986/Tk+0.01*Mwv\n",
    "yv=2.4-0.2*xv\n",
    "kv=(9.4+0.02*Mwv)*(Tk**1.5)/(209+19*Mwv+Tk)\n",
    "Em=5.4402*Tpc**(1/6)/(Mwl**0.5*Ppc**(2/3))\n",
    "\n",
    "#viscosity of vapour\n",
    "visv=10**(-4)*kv*math.exp(xv*(dr/62.4)**yv)\n",
    "print(f\"Viscosity of Vapour : {visv}\")\n",
    "\n",
    "# viscosity of liquid\n",
    "visl=sum(us)+(1/Em)*((0.1023+0.023364*dr+0.058533*dr**2-0.040758*dr**3+0.0093724*dr**4)**4-1*10**(-4)) \n",
    "print(f\"Viscosity of Liquid : {visl}\")\n"
   ]
  },
  {
   "cell_type": "code",
   "execution_count": 54,
   "id": "07714c41",
   "metadata": {},
   "outputs": [
    {
     "data": {
      "text/html": [
       "<div>\n",
       "<style scoped>\n",
       "    .dataframe tbody tr th:only-of-type {\n",
       "        vertical-align: middle;\n",
       "    }\n",
       "\n",
       "    .dataframe tbody tr th {\n",
       "        vertical-align: top;\n",
       "    }\n",
       "\n",
       "    .dataframe thead th {\n",
       "        text-align: right;\n",
       "    }\n",
       "</style>\n",
       "<table border=\"1\" class=\"dataframe\">\n",
       "  <thead>\n",
       "    <tr style=\"text-align: right;\">\n",
       "      <th></th>\n",
       "      <th>Components</th>\n",
       "      <th>Molecular Weight</th>\n",
       "      <th>Composition [Given]</th>\n",
       "      <th>Mw of in Liquid</th>\n",
       "      <th>Mw of in Vapor</th>\n",
       "      <th>Composition in Liquid</th>\n",
       "      <th>Composition in Vapour</th>\n",
       "      <th>Equilibrium Ratio</th>\n",
       "    </tr>\n",
       "  </thead>\n",
       "  <tbody>\n",
       "    <tr>\n",
       "      <th>0</th>\n",
       "      <td>N2</td>\n",
       "      <td>28.013</td>\n",
       "      <td>0.0200</td>\n",
       "      <td>0.0988</td>\n",
       "      <td>0.6641</td>\n",
       "      <td>0.0035</td>\n",
       "      <td>0.0237</td>\n",
       "      <td>15.2476</td>\n",
       "    </tr>\n",
       "    <tr>\n",
       "      <th>1</th>\n",
       "      <td>C1</td>\n",
       "      <td>16.043</td>\n",
       "      <td>0.8866</td>\n",
       "      <td>9.0926</td>\n",
       "      <td>15.3789</td>\n",
       "      <td>0.5668</td>\n",
       "      <td>0.9586</td>\n",
       "      <td>7.3343</td>\n",
       "    </tr>\n",
       "    <tr>\n",
       "      <th>2</th>\n",
       "      <td>C2</td>\n",
       "      <td>30.070</td>\n",
       "      <td>0.0492</td>\n",
       "      <td>5.8755</td>\n",
       "      <td>0.4898</td>\n",
       "      <td>0.1954</td>\n",
       "      <td>0.0163</td>\n",
       "      <td>3.2339</td>\n",
       "    </tr>\n",
       "    <tr>\n",
       "      <th>3</th>\n",
       "      <td>C3</td>\n",
       "      <td>44.097</td>\n",
       "      <td>0.0246</td>\n",
       "      <td>5.6474</td>\n",
       "      <td>0.0576</td>\n",
       "      <td>0.1281</td>\n",
       "      <td>0.0013</td>\n",
       "      <td>2.5384</td>\n",
       "    </tr>\n",
       "    <tr>\n",
       "      <th>4</th>\n",
       "      <td>nC4</td>\n",
       "      <td>58.123</td>\n",
       "      <td>0.0098</td>\n",
       "      <td>3.0790</td>\n",
       "      <td>0.0047</td>\n",
       "      <td>0.0530</td>\n",
       "      <td>0.0001</td>\n",
       "      <td>6.6329</td>\n",
       "    </tr>\n",
       "    <tr>\n",
       "      <th>5</th>\n",
       "      <td>nC5</td>\n",
       "      <td>72.151</td>\n",
       "      <td>0.0098</td>\n",
       "      <td>3.8437</td>\n",
       "      <td>0.0010</td>\n",
       "      <td>0.0533</td>\n",
       "      <td>0.0000</td>\n",
       "      <td>4.0134</td>\n",
       "    </tr>\n",
       "  </tbody>\n",
       "</table>\n",
       "</div>"
      ],
      "text/plain": [
       "  Components  Molecular Weight  Composition [Given]  Mw of in Liquid  \\\n",
       "0         N2            28.013               0.0200           0.0988   \n",
       "1         C1            16.043               0.8866           9.0926   \n",
       "2         C2            30.070               0.0492           5.8755   \n",
       "3         C3            44.097               0.0246           5.6474   \n",
       "4        nC4            58.123               0.0098           3.0790   \n",
       "5        nC5            72.151               0.0098           3.8437   \n",
       "\n",
       "   Mw of in Vapor  Composition in Liquid  Composition in Vapour  \\\n",
       "0          0.6641                 0.0035                 0.0237   \n",
       "1         15.3789                 0.5668                 0.9586   \n",
       "2          0.4898                 0.1954                 0.0163   \n",
       "3          0.0576                 0.1281                 0.0013   \n",
       "4          0.0047                 0.0530                 0.0001   \n",
       "5          0.0010                 0.0533                 0.0000   \n",
       "\n",
       "   Equilibrium Ratio  \n",
       "0            15.2476  \n",
       "1             7.3343  \n",
       "2             3.2339  \n",
       "3             2.5384  \n",
       "4             6.6329  \n",
       "5             4.0134  "
      ]
     },
     "execution_count": 54,
     "metadata": {},
     "output_type": "execute_result"
    }
   ],
   "source": [
    "datatable = pd.DataFrame({\"Components\":component_properties.component,\n",
    "                        \"Molecular Weight\":component_properties.Mwi,\n",
    "                        \"Composition [Given]\":component_properties.composition,\n",
    "                        \"Mw of in Liquid\": round(Xi*Mwi,4),\n",
    "                        \"Mw of in Vapor\": round(Yi*Mwi,4),\n",
    "                        \"Composition in Liquid\":round(Xi,4),\n",
    "                        \"Composition in Vapour\":round(Yi,4), \n",
    "                        \"Equilibrium Ratio\":round(K_i,4)})\n",
    "datatable"
   ]
  },
  {
   "attachments": {},
   "cell_type": "markdown",
   "id": "1c6e8fb9",
   "metadata": {},
   "source": [
    "# Results"
   ]
  },
  {
   "cell_type": "code",
   "execution_count": 55,
   "id": "dcef0a62",
   "metadata": {},
   "outputs": [
    {
     "name": "stdout",
     "output_type": "stream",
     "text": [
      "For Pressure: 750.0 psia  and Temperature: -70.0 Farenheit\n",
      "Composition of Vapor phase : 0.8162445401238981 and Liquid Phase: 0.18375545987610187\n",
      "A in Vapour phase 0.38411505086615205 and Liquid phase 0.9281720994359663\n",
      "B in Vapour phase 0.07771783257839684 and Liquid phase 0.11231125911454326\n",
      "Compressibility factor,  Vapour phase , Zv: 0.655336658918527 and Liquid phase, Zl: 0.165103530488731 \n",
      "Corrected, K_i : [15.24759507  7.3343337   3.23387821  2.53843609  6.63289471  4.0133977 ]\n",
      "Density of   Vapour : 4.54218560520595   and Liquid : 30.0233057369810\n",
      "Viscosity of Vapour : 0.008217821871890595 and Liquid : 0.0435165725876566\n"
     ]
    }
   ],
   "source": [
    "\n",
    "print(f'For Pressure: {P} psia  and Temperature: {T} Farenheit' )\n",
    "print(f\"Composition of Vapor phase : {v} and Liquid Phase: {l}\")\n",
    "print(f\"A in Vapour phase {Av} and Liquid phase {Al}\")\n",
    "print(f\"B in Vapour phase {Bv} and Liquid phase {Bl}\")\n",
    "print(f\"Compressibility factor,  Vapour phase , Zv: {Zv} and Liquid phase, Zl: {Zl} \")\n",
    "print(f\"Corrected, K_i : {K_i.to_numpy()}\")\n",
    "print(f\"Density of   Vapour : {dv}   and Liquid : {dl}\")\n",
    "print(f\"Viscosity of Vapour : {visv} and Liquid : {visl}\")"
   ]
  }
 ],
 "metadata": {
  "kernelspec": {
   "display_name": "base",
   "language": "python",
   "name": "python3"
  },
  "language_info": {
   "codemirror_mode": {
    "name": "ipython",
    "version": 3
   },
   "file_extension": ".py",
   "mimetype": "text/x-python",
   "name": "python",
   "nbconvert_exporter": "python",
   "pygments_lexer": "ipython3",
   "version": "3.9.13"
  },
  "vscode": {
   "interpreter": {
    "hash": "ad2bdc8ecc057115af97d19610ffacc2b4e99fae6737bb82f5d7fb13d2f2c186"
   }
  }
 },
 "nbformat": 4,
 "nbformat_minor": 5
}
