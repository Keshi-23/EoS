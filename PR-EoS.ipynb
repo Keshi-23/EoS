{
 "cells": [
  {
   "cell_type": "code",
   "execution_count": 3,
   "id": "a1781b09-5ff1-40d6-bce9-b134ab904663",
   "metadata": {},
   "outputs": [],
   "source": [
    "import numpy as np\n",
    "import pandas as pd\n",
    "import sympy as sp\n",
    "from sympy import *\n",
    "import math\n",
    "import os"
   ]
  },
  {
   "cell_type": "code",
   "execution_count": 4,
   "id": "752874d3-58b9-47f0-80c2-f6807e5e9fd1",
   "metadata": {},
   "outputs": [],
   "source": [
    "#Input Pressure and Temperature values\n",
    "P = float(input(\"Enter pressure in psia:\")) # psia\n",
    "T = float(input(\"Enter Temperature in Farenheit: \")) # Farenheit"
   ]
  },
  {
   "cell_type": "code",
   "execution_count": 5,
   "id": "aef0a3f0-ab8e-41b9-b6d6-e67c4f13b440",
   "metadata": {},
   "outputs": [
    {
     "data": {
      "text/html": [
       "<div>\n",
       "<style scoped>\n",
       "    .dataframe tbody tr th:only-of-type {\n",
       "        vertical-align: middle;\n",
       "    }\n",
       "\n",
       "    .dataframe tbody tr th {\n",
       "        vertical-align: top;\n",
       "    }\n",
       "\n",
       "    .dataframe thead th {\n",
       "        text-align: right;\n",
       "    }\n",
       "</style>\n",
       "<table border=\"1\" class=\"dataframe\">\n",
       "  <thead>\n",
       "    <tr style=\"text-align: right;\">\n",
       "      <th></th>\n",
       "      <th>component</th>\n",
       "      <th>composition</th>\n",
       "      <th>Pci</th>\n",
       "      <th>Tci</th>\n",
       "      <th>wi</th>\n",
       "      <th>Mwi</th>\n",
       "      <th>Vci</th>\n",
       "    </tr>\n",
       "  </thead>\n",
       "  <tbody>\n",
       "    <tr>\n",
       "      <th>0</th>\n",
       "      <td>N2</td>\n",
       "      <td>0.0200</td>\n",
       "      <td>493.1</td>\n",
       "      <td>227.49</td>\n",
       "      <td>0.040</td>\n",
       "      <td>28.013</td>\n",
       "      <td>0.0510</td>\n",
       "    </tr>\n",
       "    <tr>\n",
       "      <th>1</th>\n",
       "      <td>C1</td>\n",
       "      <td>0.8866</td>\n",
       "      <td>666.4</td>\n",
       "      <td>343.33</td>\n",
       "      <td>0.008</td>\n",
       "      <td>16.043</td>\n",
       "      <td>0.0988</td>\n",
       "    </tr>\n",
       "    <tr>\n",
       "      <th>2</th>\n",
       "      <td>C2</td>\n",
       "      <td>0.0492</td>\n",
       "      <td>706.5</td>\n",
       "      <td>549.92</td>\n",
       "      <td>0.098</td>\n",
       "      <td>30.070</td>\n",
       "      <td>0.0783</td>\n",
       "    </tr>\n",
       "    <tr>\n",
       "      <th>3</th>\n",
       "      <td>C3</td>\n",
       "      <td>0.0246</td>\n",
       "      <td>616.0</td>\n",
       "      <td>666.06</td>\n",
       "      <td>0.152</td>\n",
       "      <td>44.097</td>\n",
       "      <td>0.0727</td>\n",
       "    </tr>\n",
       "    <tr>\n",
       "      <th>4</th>\n",
       "      <td>nC4</td>\n",
       "      <td>0.0098</td>\n",
       "      <td>550.6</td>\n",
       "      <td>765.62</td>\n",
       "      <td>0.193</td>\n",
       "      <td>58.123</td>\n",
       "      <td>0.0703</td>\n",
       "    </tr>\n",
       "    <tr>\n",
       "      <th>5</th>\n",
       "      <td>nC5</td>\n",
       "      <td>0.0098</td>\n",
       "      <td>488.6</td>\n",
       "      <td>845.80</td>\n",
       "      <td>0.251</td>\n",
       "      <td>72.151</td>\n",
       "      <td>0.0675</td>\n",
       "    </tr>\n",
       "  </tbody>\n",
       "</table>\n",
       "</div>"
      ],
      "text/plain": [
       "  component  composition    Pci     Tci     wi     Mwi     Vci\n",
       "0        N2       0.0200  493.1  227.49  0.040  28.013  0.0510\n",
       "1        C1       0.8866  666.4  343.33  0.008  16.043  0.0988\n",
       "2        C2       0.0492  706.5  549.92  0.098  30.070  0.0783\n",
       "3        C3       0.0246  616.0  666.06  0.152  44.097  0.0727\n",
       "4       nC4       0.0098  550.6  765.62  0.193  58.123  0.0703\n",
       "5       nC5       0.0098  488.6  845.80  0.251  72.151  0.0675"
      ]
     },
     "execution_count": 5,
     "metadata": {},
     "output_type": "execute_result"
    }
   ],
   "source": [
    "#Import Components Properties\n",
    "component_properties = pd.read_excel(\"components.xlsx\")\n",
    "component_properties"
   ]
  },
  {
   "cell_type": "code",
   "execution_count": 6,
   "id": "0bf90c48-9648-456f-acbb-a2737e280278",
   "metadata": {},
   "outputs": [
    {
     "data": {
      "text/plain": [
       "array([[0.    , 0.018 , 0.039 , 0.046 , 0.047 , 0.048 ],\n",
       "       [0.018 , 0.    , 0.005 , 0.01  , 0.0145, 0.0182],\n",
       "       [0.039 , 0.005 , 0.    , 0.0017, 0.0032, 0.0048],\n",
       "       [0.046 , 0.01  , 0.0017, 0.    , 0.0012, 0.0024],\n",
       "       [0.047 , 0.0145, 0.0032, 0.0012, 0.    , 0.0008],\n",
       "       [0.048 , 0.0182, 0.0048, 0.0024, 0.0008, 0.    ]])"
      ]
     },
     "execution_count": 6,
     "metadata": {},
     "output_type": "execute_result"
    }
   ],
   "source": [
    "#Import binary coefficients\n",
    "d= pd.read_excel(\"binary.xlsx\").to_numpy()\n",
    "d"
   ]
  },
  {
   "cell_type": "code",
   "execution_count": 7,
   "id": "7c246194-2afe-4652-95b2-e0bdc5f44e6d",
   "metadata": {},
   "outputs": [
    {
     "name": "stdout",
     "output_type": "stream",
     "text": [
      "Reduced Pressure,  Pri:\n",
      " 0    2.027986\n",
      "1    1.500600\n",
      "2    1.415428\n",
      "3    1.623377\n",
      "4    1.816201\n",
      "5    2.046664\n",
      "Name: Pci, dtype: float64\n",
      "Reduced Temperature, Tri:\n",
      " 0    1.778847\n",
      "1    1.178662\n",
      "2    0.735871\n",
      "3    0.607558\n",
      "4    0.528552\n",
      "5    0.478446\n",
      "Name: Tci, dtype: float64\n"
     ]
    }
   ],
   "source": [
    "Pci = component_properties['Pci'] \n",
    "Tci = component_properties['Tci']\n",
    "\n",
    "Pri= P/Pci\n",
    "Tri= (T+459.67 )/Tci\n",
    "\n",
    "print('Reduced Pressure,  Pri:\\n', Pri)\n",
    "print('Reduced Temperature, Tri:\\n',Tri)"
   ]
  },
  {
   "cell_type": "code",
   "execution_count": 8,
   "id": "e009b12c-a28c-4a68-b604-910c6b7d9577",
   "metadata": {},
   "outputs": [
    {
     "name": "stdout",
     "output_type": "stream",
     "text": [
      "Ai: [0.21315405 0.46128023 1.38137769 2.58607939 4.15396658 6.19628096]\n",
      "Bi: [0.0886919  0.0990452  0.14963872 0.20786879 0.26732139 0.33279046]\n"
     ]
    }
   ],
   "source": [
    "wi = component_properties['wi'] #accentric factor\n",
    "\n",
    "w_a = 0.45723553\n",
    "w_b = 0.07779607\n",
    "\n",
    "for i in wi:\n",
    "    if i<0.49:\n",
    "        mi = 0.3796+1.54226*wi-0.2699*wi**2\n",
    "    else:\n",
    "        mi = 0.379642+1.48503*wi-0.164423*wi**2+0.016667*wi**3\n",
    "        \n",
    "Ai =(w_a*(1+mi*(1-Tri**0.5))**2*(Pri/Tri**2)).replace(np.nan,0).to_numpy()\n",
    "Bi = ((w_b*Pri)/Tri).to_numpy()\n",
    "print('Ai:',Ai)\n",
    "print('Bi:',Bi)"
   ]
  },
  {
   "cell_type": "code",
   "execution_count": 9,
   "id": "3824612e-a3f3-4fb7-9754-ad53986086ce",
   "metadata": {},
   "outputs": [
    {
     "name": "stdout",
     "output_type": "stream",
     "text": [
      "A : 0.5651691201327123\n",
      "B : 0.107944202075142\n"
     ]
    }
   ],
   "source": [
    "#Calculating A and B\n",
    "\n",
    "c = component_properties['composition'].to_numpy()\n",
    "n= len(c)\n",
    "\n",
    "B =  np.sum(c * Bi)\n",
    "\n",
    "A=0\n",
    "for i in range (n):\n",
    "    for j in range (n):\n",
    "        A += (1-d[i,j])*(Ai[i]*Ai[j])**0.5*c[i]*c[j] \n",
    "        \n",
    "print('A :', A)\n",
    "print('B :', B)"
   ]
  },
  {
   "cell_type": "code",
   "execution_count": 10,
   "id": "1c2f29b9-1270-43c2-a46a-1aa7c08cf2c8",
   "metadata": {},
   "outputs": [
    {
     "name": "stdout",
     "output_type": "stream",
     "text": [
      "For Pressure: 1000.0 and Temperature: -55.0\n",
      "                          A: 0.5652\n",
      "                          B: 0.1079\n",
      "                          Z: [0.41292058+0.j         0.23956761+0.24307906j 0.23956761-0.24307906j]\n",
      "Without imaginery values, Z: 0.4129205765436229\n",
      "                      Z_max: (0.4129205765436229+0j)\n",
      "                      Z_min: (0.23956761069061733-0.24307906481308494j)\n"
     ]
    }
   ],
   "source": [
    "#Calculating Z \n",
    "\n",
    "m1 = 1+2**0.5\n",
    "m2 = 1-2**0.5\n",
    "p=1\n",
    "q=(m1+m2-1)*B-1\n",
    "r=(A+m1*m2*B**2-(m1+m2)*B*(B+1))\n",
    "s=-A*B-m1*m2*B**2*(B+1)\n",
    "\n",
    "Z = np.roots([p, q, r, s])\n",
    "\n",
    "print('For Pressure:',P , 'and', 'Temperature:',T )\n",
    "print('                          A:', round(A,4))\n",
    "print('                          B:', round(B,4))\n",
    "print('                          Z:', Z)\n",
    "for i in range(len(Z)):\n",
    "    if np.isreal(Z[i]):\n",
    "        print('Without imaginery values, Z:', np.real(Z[i]))\n",
    "        \n",
    "print('                      Z_max:', max(Z))\n",
    "print('                      Z_min:', min(Z))"
   ]
  },
  {
   "cell_type": "code",
   "execution_count": 22,
   "id": "0e2d108f-0b3a-4b1a-a181-d0f1ce847eaf",
   "metadata": {},
   "outputs": [
    {
     "data": {
      "text/plain": [
       "0    5.687073\n",
       "1    1.513815\n",
       "2    0.085111\n",
       "3    0.011329\n",
       "4    0.001816\n",
       "5    0.000323\n",
       "dtype: float64"
      ]
     },
     "execution_count": 22,
     "metadata": {},
     "output_type": "execute_result"
    }
   ],
   "source": [
    "\n",
    "Ki = (1/Pri)*((5.37*(1+wi)*(1-1/Tri)).apply(math.exp))\n",
    "\n",
    "Ki "
   ]
  },
  {
   "cell_type": "code",
   "execution_count": 43,
   "id": "421e03ce",
   "metadata": {},
   "outputs": [
    {
     "name": "stdout",
     "output_type": "stream",
     "text": [
      "Composition in vapor phase is: 0.7754182515439129\n",
      "Composition in liquid phase is: 0.22458174845608714\n"
     ]
    }
   ],
   "source": [
    "g_V = lambda v:sum(c*(Ki - 1)/(v*(Ki - 1)+1))\n",
    "dg_V = lambda v:-sum(c*((Ki-1)**2)/((v*(Ki-1) + 1)**2))\n",
    "\n",
    "A = sum(c*(Ki-1))\n",
    "B = sum(c*(Ki-1)/Ki)\n",
    "\n",
    "v = A/(A - B) \n",
    "\n",
    "while abs(g_V(v))>0.0001:\n",
    "    v = v - g_V(v)/dg_V(v)\n",
    "\n",
    "print(f\"Composition in vapor phase is: {v}\")\n",
    "l = 1 - v\n",
    "print(f\"Composition in liquid phase is: {l}\")\n",
    "\n"
   ]
  },
  {
   "cell_type": "code",
   "execution_count": 42,
   "metadata": {},
   "outputs": [
    {
     "name": "stdout",
     "output_type": "stream",
     "text": [
      "A in Vapour phase 0.4654376987788452 and liquid phase 0.9959953217004294\n",
      "B in Vapour phase 0.0996666779058611 and liquid phase 0.13652418848357134\n"
     ]
    }
   ],
   "source": [
    "Xi = c/(1 + v*(Ki-1))\n",
    "Yi = Xi*Ki\n",
    "\n",
    "def Aa(c):\n",
    "    return [sum(c[i]*c*(Ai[i]*Ai)**0.5) for i in range(len(c))]\n",
    "\n",
    "Al = sum(Aa(Xi))\n",
    "Av = sum(Aa(Yi))\n",
    "Bl = sum(Xi*Bi)\n",
    "Bv = sum(Yi*Bi)\n",
    "\n",
    "print(f\"A in Vapour phase {Av} and liquid phase {Al}\")\n",
    "print(f\"B in Vapour phase {Bv} and liquid phase {Bl}\")\n",
    "\n"
   ]
  }
 ],
 "metadata": {
  "kernelspec": {
   "display_name": "base",
   "language": "python",
   "name": "python3"
  },
  "language_info": {
   "codemirror_mode": {
    "name": "ipython",
    "version": 3
   },
   "file_extension": ".py",
   "mimetype": "text/x-python",
   "name": "python",
   "nbconvert_exporter": "python",
   "pygments_lexer": "ipython3",
   "version": "3.9.13"
  },
  "vscode": {
   "interpreter": {
    "hash": "ad2bdc8ecc057115af97d19610ffacc2b4e99fae6737bb82f5d7fb13d2f2c186"
   }
  }
 },
 "nbformat": 4,
 "nbformat_minor": 5
}
