{
 "cells": [
  {
   "cell_type": "code",
   "execution_count": 2,
   "id": "8f505579-8bae-490f-a8df-a4c5675d0973",
   "metadata": {},
   "outputs": [],
   "source": [
    "import numpy as np\n",
    "import pandas as pd\n",
    "from sympy import *\n",
    "import math\n",
    "import os"
   ]
  },
  {
   "cell_type": "code",
   "execution_count": 3,
   "id": "c3d62d54-e29d-413a-949e-7cb95d87351c",
   "metadata": {},
   "outputs": [],
   "source": [
    "#Input Pressure and Temperature values\n",
    "P = float(input(\"Enter pressure in psia:\")) # psia\n",
    "T = float(input(\"Enter Temperature in Farenheit: \")) # Farenheit"
   ]
  },
  {
   "cell_type": "code",
   "execution_count": 4,
   "id": "96ceec8d-cc14-4164-81fd-c036982f40de",
   "metadata": {},
   "outputs": [
    {
     "data": {
      "text/html": [
       "<div>\n",
       "<style scoped>\n",
       "    .dataframe tbody tr th:only-of-type {\n",
       "        vertical-align: middle;\n",
       "    }\n",
       "\n",
       "    .dataframe tbody tr th {\n",
       "        vertical-align: top;\n",
       "    }\n",
       "\n",
       "    .dataframe thead th {\n",
       "        text-align: right;\n",
       "    }\n",
       "</style>\n",
       "<table border=\"1\" class=\"dataframe\">\n",
       "  <thead>\n",
       "    <tr style=\"text-align: right;\">\n",
       "      <th></th>\n",
       "      <th>component</th>\n",
       "      <th>composition</th>\n",
       "      <th>Pci</th>\n",
       "      <th>Tci</th>\n",
       "      <th>wi</th>\n",
       "      <th>Mwi</th>\n",
       "      <th>Vci</th>\n",
       "    </tr>\n",
       "  </thead>\n",
       "  <tbody>\n",
       "    <tr>\n",
       "      <th>0</th>\n",
       "      <td>N2</td>\n",
       "      <td>0.0200</td>\n",
       "      <td>493.1</td>\n",
       "      <td>227.49</td>\n",
       "      <td>0.040</td>\n",
       "      <td>28.013</td>\n",
       "      <td>0.0510</td>\n",
       "    </tr>\n",
       "    <tr>\n",
       "      <th>1</th>\n",
       "      <td>C1</td>\n",
       "      <td>0.8866</td>\n",
       "      <td>666.4</td>\n",
       "      <td>343.33</td>\n",
       "      <td>0.008</td>\n",
       "      <td>16.043</td>\n",
       "      <td>0.0988</td>\n",
       "    </tr>\n",
       "    <tr>\n",
       "      <th>2</th>\n",
       "      <td>C2</td>\n",
       "      <td>0.0492</td>\n",
       "      <td>706.5</td>\n",
       "      <td>549.92</td>\n",
       "      <td>0.098</td>\n",
       "      <td>30.070</td>\n",
       "      <td>0.0783</td>\n",
       "    </tr>\n",
       "    <tr>\n",
       "      <th>3</th>\n",
       "      <td>C3</td>\n",
       "      <td>0.0246</td>\n",
       "      <td>616.0</td>\n",
       "      <td>666.06</td>\n",
       "      <td>0.152</td>\n",
       "      <td>44.097</td>\n",
       "      <td>0.0727</td>\n",
       "    </tr>\n",
       "    <tr>\n",
       "      <th>4</th>\n",
       "      <td>nC4</td>\n",
       "      <td>0.0098</td>\n",
       "      <td>550.6</td>\n",
       "      <td>765.62</td>\n",
       "      <td>0.193</td>\n",
       "      <td>58.123</td>\n",
       "      <td>0.0703</td>\n",
       "    </tr>\n",
       "    <tr>\n",
       "      <th>5</th>\n",
       "      <td>nC5</td>\n",
       "      <td>0.0098</td>\n",
       "      <td>488.6</td>\n",
       "      <td>845.80</td>\n",
       "      <td>0.251</td>\n",
       "      <td>72.151</td>\n",
       "      <td>0.0675</td>\n",
       "    </tr>\n",
       "  </tbody>\n",
       "</table>\n",
       "</div>"
      ],
      "text/plain": [
       "  component  composition    Pci     Tci     wi     Mwi     Vci\n",
       "0        N2       0.0200  493.1  227.49  0.040  28.013  0.0510\n",
       "1        C1       0.8866  666.4  343.33  0.008  16.043  0.0988\n",
       "2        C2       0.0492  706.5  549.92  0.098  30.070  0.0783\n",
       "3        C3       0.0246  616.0  666.06  0.152  44.097  0.0727\n",
       "4       nC4       0.0098  550.6  765.62  0.193  58.123  0.0703\n",
       "5       nC5       0.0098  488.6  845.80  0.251  72.151  0.0675"
      ]
     },
     "execution_count": 4,
     "metadata": {},
     "output_type": "execute_result"
    }
   ],
   "source": [
    "#Import Components Properties\n",
    "component_properties = pd.read_excel(\"components.xlsx\")\n",
    "component_properties"
   ]
  },
  {
   "cell_type": "code",
   "execution_count": 5,
   "id": "cf7dadc7-ba7e-4afe-82c1-849deb10b0d3",
   "metadata": {},
   "outputs": [
    {
     "data": {
      "text/plain": [
       "array([[0.    , 0.018 , 0.039 , 0.046 , 0.047 , 0.048 ],\n",
       "       [0.018 , 0.    , 0.005 , 0.01  , 0.0145, 0.0182],\n",
       "       [0.039 , 0.005 , 0.    , 0.0017, 0.0032, 0.0048],\n",
       "       [0.046 , 0.01  , 0.0017, 0.    , 0.0012, 0.0024],\n",
       "       [0.047 , 0.0145, 0.0032, 0.0012, 0.    , 0.0008],\n",
       "       [0.048 , 0.0182, 0.0048, 0.0024, 0.0008, 0.    ]])"
      ]
     },
     "execution_count": 5,
     "metadata": {},
     "output_type": "execute_result"
    }
   ],
   "source": [
    "#Import binary coefficients\n",
    "d= pd.read_excel(\"binary.xlsx\").values\n",
    "d"
   ]
  },
  {
   "cell_type": "code",
   "execution_count": 6,
   "id": "553df8cf-1305-499f-b3dc-936c91438e3b",
   "metadata": {},
   "outputs": [
    {
     "name": "stdout",
     "output_type": "stream",
     "text": [
      "Reduced Pressure,  Pri:\n",
      " 0    1.520990\n",
      "1    1.125450\n",
      "2    1.061571\n",
      "3    1.217532\n",
      "4    1.362150\n",
      "5    1.534998\n",
      "Name: Pci, dtype: float64\n",
      "Reduced Temperature, Tri:\n",
      " 0    1.712910\n",
      "1    1.134972\n",
      "2    0.708594\n",
      "3    0.585037\n",
      "4    0.508960\n",
      "5    0.460712\n",
      "Name: Tci, dtype: float64\n"
     ]
    }
   ],
   "source": [
    "Pci = component_properties['Pci'] \n",
    "Tci = component_properties['Tci']\n",
    "\n",
    "Pri= P/Pci\n",
    "Tri= (T+459.67 )/Tci\n",
    "print('Reduced Pressure,  Pri:\\n', Pri)\n",
    "print('Reduced Temperature, Tri:\\n',Tri)"
   ]
  },
  {
   "cell_type": "code",
   "execution_count": 7,
   "id": "16562487-6f39-49ce-b8de-afd5c9e84c39",
   "metadata": {},
   "outputs": [
    {
     "name": "stdout",
     "output_type": "stream",
     "text": [
      "Ai: [0.15355681 0.3498256  1.09375913 2.07505954 3.36080423 5.04568727]\n",
      "Bi: [0.07693285 0.08591347 0.12979915 0.18030889 0.23187907 0.28866804]\n"
     ]
    }
   ],
   "source": [
    "wi = component_properties['wi']\n",
    "w_a = 0.42748020\n",
    "w_b = 0.08664035\n",
    "mi = 0.48+1.574*wi-0.176*wi**2\n",
    "        \n",
    "Ai =(w_a*(1+mi*(1-Tri**0.5))**2*(Pri/Tri**2)).replace(np.nan,0).to_numpy()\n",
    "Bi = ((w_b*Pri)/Tri).to_numpy()\n",
    "print('Ai:',Ai)\n",
    "print('Bi:',Bi)"
   ]
  },
  {
   "cell_type": "code",
   "execution_count": 8,
   "id": "de9aab9c-2e32-41b1-969b-49d914fcaf28",
   "metadata": {},
   "outputs": [
    {
     "name": "stdout",
     "output_type": "stream",
     "text": [
      "A : 0.4328099111773391\n",
      "B : 0.0936326168492695\n"
     ]
    }
   ],
   "source": [
    "#Calculating A and B\n",
    "c = component_properties['composition'].to_numpy()\n",
    "n= len(c)\n",
    "\n",
    "B =  np.sum(c * Bi)\n",
    "\n",
    "A=0\n",
    "for i in range (n):\n",
    "    for j in range (n):\n",
    "        A += (1-d[i,j])*(Ai[i]*Ai[j])**0.5*c[i]*c[j] \n",
    "        \n",
    "print('A :', A)\n",
    "print('B :', B)"
   ]
  },
  {
   "cell_type": "code",
   "execution_count": 9,
   "id": "8151a91e-41f5-4af0-a640-c9ba1c765c15",
   "metadata": {},
   "outputs": [
    {
     "name": "stdout",
     "output_type": "stream",
     "text": [
      "For Pressure: 750.0 and Temperature: -70.0\n",
      "                          A: 0.4328\n",
      "                          B: 0.0936\n",
      "                          Z: [0.50388514+0.j        0.24805743+0.1374512j 0.24805743-0.1374512j]\n",
      "Without imaginery values, Z: 0.5038851411388346\n",
      "                      Z_max: (0.5038851411388346+0j)\n",
      "                      Z_min: (0.24805742943058284-0.13745120376332645j)\n"
     ]
    }
   ],
   "source": [
    "#Calculating Z \n",
    "\n",
    "m1 = 0\n",
    "m2 = 1\n",
    "p=1\n",
    "q=(m1+m2-1)*B-1\n",
    "r=(A+m1*m2*B**2-(m1+m2)*B*(B+1))\n",
    "s=-A*B-m1*m2*B**2*(B+1)\n",
    "\n",
    "Z = np.roots([p, q, r, s])\n",
    "\n",
    "print('For Pressure:',P , 'and', 'Temperature:',T )\n",
    "print('                          A:', round(A,4))\n",
    "print('                          B:', round(B,4))\n",
    "print('                          Z:', Z)\n",
    "for i in range(len(Z)):\n",
    "    if np.isreal(Z[i]):\n",
    "        print('Without imaginery values, Z:', np.real(Z[i]))\n",
    "        \n",
    "print('                      Z_max:', max(Z))\n",
    "print('                      Z_min:', min(Z))"
   ]
  },
  {
   "cell_type": "code",
   "execution_count": 10,
   "id": "5d63dc74-7b3a-4b1d-b9b2-fd2e5bcae85b",
   "metadata": {},
   "outputs": [
    {
     "data": {
      "text/plain": [
       "0    6.719563\n",
       "1    1.691359\n",
       "2    0.083362\n",
       "3    0.010207\n",
       "4    0.001519\n",
       "5    0.000250\n",
       "dtype: float64"
      ]
     },
     "execution_count": 10,
     "metadata": {},
     "output_type": "execute_result"
    }
   ],
   "source": [
    "\n",
    "Ki = (1/Pri)*((5.37*(1+wi)*(1-(1/Tri))).apply(math.exp))\n",
    "\n",
    "Ki "
   ]
  },
  {
   "cell_type": "code",
   "execution_count": 11,
   "id": "c31e13f7",
   "metadata": {},
   "outputs": [
    {
     "name": "stdout",
     "output_type": "stream",
     "text": [
      "Composition in vapor phase is: 0.8162445401238981\n",
      "Composition in liquid phase is: 0.18375545987610187\n"
     ]
    }
   ],
   "source": [
    "g_V = lambda v:sum(c*(Ki - 1)/(v*(Ki - 1)+1))\n",
    "dg_V = lambda v:-sum(c*((Ki-1)**2)/((v*(Ki-1) + 1)**2))\n",
    "\n",
    "A = sum(c*(Ki-1))\n",
    "B = sum(c*(Ki-1)/Ki)\n",
    "\n",
    "v = A/(A - B) \n",
    "\n",
    "while abs(g_V(v))>0.0001:\n",
    "    v = v - g_V(v)/dg_V(v)\n",
    "\n",
    "l = 1 - v\n",
    "\n",
    "print(f\"Composition in vapor phase is: {v}\")\n",
    "print(f\"Composition in liquid phase is: {l}\")"
   ]
  },
  {
   "cell_type": "code",
   "execution_count": 12,
   "id": "d1db8aa0",
   "metadata": {},
   "outputs": [
    {
     "name": "stdout",
     "output_type": "stream",
     "text": [
      "A in Vapour phase 0.35445500554452064 and liquid phase 0.8877605590674149\n",
      "B in Vapour phase 0.0865532181231482 and liquid phase 0.12507941337685463\n"
     ]
    }
   ],
   "source": [
    "Xi = c/(1 + v*(Ki-1))\n",
    "Yi = Xi*Ki\n",
    "\n",
    "def Aa(c):\n",
    "    return [sum(c[i]*c*(Ai[i]*Ai)**0.5) for i in range(len(c))]\n",
    "\n",
    "Al = sum(Aa(Xi))\n",
    "Av = sum(Aa(Yi))\n",
    "Bl = sum(Xi*Bi)\n",
    "Bv = sum(Yi*Bi)\n",
    "\n",
    "print(f\"A in Vapour phase {Av} and liquid phase {Al}\")\n",
    "print(f\"B in Vapour phase {Bv} and liquid phase {Bl}\")"
   ]
  },
  {
   "cell_type": "code",
   "execution_count": 13,
   "id": "8b1bcddd",
   "metadata": {},
   "outputs": [
    {
     "name": "stdout",
     "output_type": "stream",
     "text": [
      "Vapour Phase compressibility factor, Zv: [0.73989304+0.j         0.08677687+0.15143567j 0.08677687-0.15143567j]\n",
      "Vapour Phase : [0.73989304 0.08677687 0.08677687]\n",
      "Liquid Phase compressibility factor, Zl: [0.33425361+0.58391168j 0.33425361-0.58391168j 0.20641337+0.j        ]\n"
     ]
    }
   ],
   "source": [
    "m1 = 1+2**0.5\n",
    "m2 = 1-2**0.5\n",
    "\n",
    "#Vapour Phase \n",
    "p=1\n",
    "q=(m1+m2-1)*Bv-1\n",
    "r=(Av+m1*m2*Bv**2-(m1+m2)*Bv*(Bv+1))\n",
    "s=-Av*Bv-m1*m2*Bv**2*(Bv+1)\n",
    "\n",
    "Zv = np.roots([p, q, r, s])\n",
    "\n",
    "print('Vapour Phase compressibility factor, Zv:', Zv)\n",
    "\n",
    "\n",
    "print('Vapour Phase :', np.real(Zv))\n",
    "\n",
    "#Liquid phase \n",
    "t=1\n",
    "u=(m1+m2-1)*Bl-1\n",
    "w=(Al+m1*m2*Bl**2-(m1+m2)*Bl*(Bl+1))\n",
    "x=-Al*Bl-m1*m2*Bl**2*(Bl+1)\n",
    "\n",
    "Zl = np.roots([t, u, w, x])\n",
    "print('Liquid Phase compressibility factor, Zl:', Zl)\n",
    "\n",
    "# for i in range(len(Zl)):\n",
    "#     if np.isreal(Zl[i]):\n",
    "#         print('Liquid Phase compressibility factor, Zl:', np.real(Zl[i]))\n"
   ]
  },
  {
   "cell_type": "code",
   "execution_count": 14,
   "id": "112fc5ec",
   "metadata": {},
   "outputs": [
    {
     "name": "stdout",
     "output_type": "stream",
     "text": [
      "For Pressure: 750.0 psia  and Temperature: -70.0 Farenheit\n",
      "Composition of Vapor phase : 0.8162445401238981 and Liquid Phase: 0.18375545987610187\n",
      "A in Vapour phase 0.35445500554452064 and Liquid phase 0.8877605590674149\n",
      "B in Vapour phase 0.0865532181231482 and Liquid phase 0.12507941337685463\n",
      "Compressibility factor,  Vapour phase , Zv: [0.73989304+0.j         0.08677687+0.15143567j 0.08677687-0.15143567j] and Liquid phase, Zl: [0.33425361+0.58391168j 0.33425361-0.58391168j 0.20641337+0.j        ] \n"
     ]
    }
   ],
   "source": [
    "print(f'For Pressure: {P} psia  and Temperature: {T} Farenheit' )\n",
    "\n",
    "print(f\"Composition of Vapor phase : {v} and Liquid Phase: {l}\")\n",
    "print(f\"A in Vapour phase {Av} and Liquid phase {Al}\")\n",
    "print(f\"B in Vapour phase {Bv} and Liquid phase {Bl}\")\n",
    "print(f\"Compressibility factor,  Vapour phase , Zv: {Zv} and Liquid phase, Zl: {Zl} \")"
   ]
  }
 ],
 "metadata": {
  "kernelspec": {
   "display_name": "base",
   "language": "python",
   "name": "python3"
  },
  "language_info": {
   "codemirror_mode": {
    "name": "ipython",
    "version": 3
   },
   "file_extension": ".py",
   "mimetype": "text/x-python",
   "name": "python",
   "nbconvert_exporter": "python",
   "pygments_lexer": "ipython3",
   "version": "3.9.13"
  },
  "vscode": {
   "interpreter": {
    "hash": "ad2bdc8ecc057115af97d19610ffacc2b4e99fae6737bb82f5d7fb13d2f2c186"
   }
  }
 },
 "nbformat": 4,
 "nbformat_minor": 5
}
