{
 "cells": [
  {
   "cell_type": "code",
   "execution_count": 1,
   "id": "8f505579-8bae-490f-a8df-a4c5675d0973",
   "metadata": {},
   "outputs": [],
   "source": [
    "import numpy as np\n",
    "import pandas as pd\n",
    "from sympy import *\n",
    "import math\n",
    "import os"
   ]
  },
  {
   "cell_type": "code",
   "execution_count": 2,
   "id": "c3d62d54-e29d-413a-949e-7cb95d87351c",
   "metadata": {},
   "outputs": [
    {
     "name": "stdin",
     "output_type": "stream",
     "text": [
      "Enter pressure in psia: 750\n",
      "Enter Temperature in Farenheit:  -70\n"
     ]
    }
   ],
   "source": [
    "#Input Pressure and Temperature values\n",
    "P = float(input(\"Enter pressure in psia:\")) # psia\n",
    "T = float(input(\"Enter Temperature in Farenheit: \")) # Farenheit"
   ]
  },
  {
   "cell_type": "code",
   "execution_count": 3,
   "id": "96ceec8d-cc14-4164-81fd-c036982f40de",
   "metadata": {},
   "outputs": [
    {
     "data": {
      "text/html": [
       "<div>\n",
       "<style scoped>\n",
       "    .dataframe tbody tr th:only-of-type {\n",
       "        vertical-align: middle;\n",
       "    }\n",
       "\n",
       "    .dataframe tbody tr th {\n",
       "        vertical-align: top;\n",
       "    }\n",
       "\n",
       "    .dataframe thead th {\n",
       "        text-align: right;\n",
       "    }\n",
       "</style>\n",
       "<table border=\"1\" class=\"dataframe\">\n",
       "  <thead>\n",
       "    <tr style=\"text-align: right;\">\n",
       "      <th></th>\n",
       "      <th>component</th>\n",
       "      <th>composition</th>\n",
       "      <th>Pci</th>\n",
       "      <th>Tci</th>\n",
       "      <th>wi</th>\n",
       "      <th>Mwi</th>\n",
       "      <th>Vci</th>\n",
       "    </tr>\n",
       "  </thead>\n",
       "  <tbody>\n",
       "    <tr>\n",
       "      <th>0</th>\n",
       "      <td>N2</td>\n",
       "      <td>0.0200</td>\n",
       "      <td>493.1</td>\n",
       "      <td>227.49</td>\n",
       "      <td>0.040</td>\n",
       "      <td>28.013</td>\n",
       "      <td>0.0510</td>\n",
       "    </tr>\n",
       "    <tr>\n",
       "      <th>1</th>\n",
       "      <td>C1</td>\n",
       "      <td>0.8866</td>\n",
       "      <td>666.4</td>\n",
       "      <td>343.33</td>\n",
       "      <td>0.008</td>\n",
       "      <td>16.043</td>\n",
       "      <td>0.0988</td>\n",
       "    </tr>\n",
       "    <tr>\n",
       "      <th>2</th>\n",
       "      <td>C2</td>\n",
       "      <td>0.0492</td>\n",
       "      <td>706.5</td>\n",
       "      <td>549.92</td>\n",
       "      <td>0.098</td>\n",
       "      <td>30.070</td>\n",
       "      <td>0.0783</td>\n",
       "    </tr>\n",
       "    <tr>\n",
       "      <th>3</th>\n",
       "      <td>C3</td>\n",
       "      <td>0.0246</td>\n",
       "      <td>616.0</td>\n",
       "      <td>666.06</td>\n",
       "      <td>0.152</td>\n",
       "      <td>44.097</td>\n",
       "      <td>0.0727</td>\n",
       "    </tr>\n",
       "    <tr>\n",
       "      <th>4</th>\n",
       "      <td>nC4</td>\n",
       "      <td>0.0098</td>\n",
       "      <td>550.6</td>\n",
       "      <td>765.62</td>\n",
       "      <td>0.193</td>\n",
       "      <td>58.123</td>\n",
       "      <td>0.0703</td>\n",
       "    </tr>\n",
       "    <tr>\n",
       "      <th>5</th>\n",
       "      <td>nC5</td>\n",
       "      <td>0.0098</td>\n",
       "      <td>488.6</td>\n",
       "      <td>845.80</td>\n",
       "      <td>0.251</td>\n",
       "      <td>72.151</td>\n",
       "      <td>0.0675</td>\n",
       "    </tr>\n",
       "  </tbody>\n",
       "</table>\n",
       "</div>"
      ],
      "text/plain": [
       "  component  composition    Pci     Tci     wi     Mwi     Vci\n",
       "0        N2       0.0200  493.1  227.49  0.040  28.013  0.0510\n",
       "1        C1       0.8866  666.4  343.33  0.008  16.043  0.0988\n",
       "2        C2       0.0492  706.5  549.92  0.098  30.070  0.0783\n",
       "3        C3       0.0246  616.0  666.06  0.152  44.097  0.0727\n",
       "4       nC4       0.0098  550.6  765.62  0.193  58.123  0.0703\n",
       "5       nC5       0.0098  488.6  845.80  0.251  72.151  0.0675"
      ]
     },
     "execution_count": 3,
     "metadata": {},
     "output_type": "execute_result"
    }
   ],
   "source": [
    "#Import Components Properties\n",
    "component_properties = pd.read_excel(\"../ASSIGNMENTS/components.xlsx\")\n",
    "component_properties"
   ]
  },
  {
   "cell_type": "code",
   "execution_count": 4,
   "id": "cf7dadc7-ba7e-4afe-82c1-849deb10b0d3",
   "metadata": {},
   "outputs": [
    {
     "data": {
      "text/plain": [
       "array([[0.    , 0.018 , 0.039 , 0.046 , 0.047 , 0.048 ],\n",
       "       [0.018 , 0.    , 0.005 , 0.01  , 0.0145, 0.0182],\n",
       "       [0.039 , 0.005 , 0.    , 0.0017, 0.0032, 0.0048],\n",
       "       [0.046 , 0.01  , 0.0017, 0.    , 0.0012, 0.0024],\n",
       "       [0.047 , 0.0145, 0.0032, 0.0012, 0.    , 0.0008],\n",
       "       [0.048 , 0.0182, 0.0048, 0.0024, 0.0008, 0.    ]])"
      ]
     },
     "execution_count": 4,
     "metadata": {},
     "output_type": "execute_result"
    }
   ],
   "source": [
    "#Import binary coefficients\n",
    "d= pd.read_excel(\"../ASSIGNMENTS/binary.xlsx\").values\n",
    "d"
   ]
  },
  {
   "cell_type": "code",
   "execution_count": 5,
   "id": "553df8cf-1305-499f-b3dc-936c91438e3b",
   "metadata": {},
   "outputs": [
    {
     "name": "stdout",
     "output_type": "stream",
     "text": [
      "Reduced Pressure,  Pri:\n",
      " 0    1.520990\n",
      "1    1.125450\n",
      "2    1.061571\n",
      "3    1.217532\n",
      "4    1.362150\n",
      "5    1.534998\n",
      "Name: Pci, dtype: float64\n",
      "Reduced Temperature, Tri:\n",
      " 0    1.712910\n",
      "1    1.134972\n",
      "2    0.708594\n",
      "3    0.585037\n",
      "4    0.508960\n",
      "5    0.460712\n",
      "Name: Tci, dtype: float64\n"
     ]
    }
   ],
   "source": [
    "Pci = component_properties['Pci'] \n",
    "Tci = component_properties['Tci']\n",
    "\n",
    "Pri= P/Pci\n",
    "Tri= (T+459.67 )/Tci\n",
    "print('Reduced Pressure,  Pri:\\n', Pri)\n",
    "print('Reduced Temperature, Tri:\\n',Tri)"
   ]
  },
  {
   "cell_type": "code",
   "execution_count": 6,
   "id": "16562487-6f39-49ce-b8de-afd5c9e84c39",
   "metadata": {},
   "outputs": [
    {
     "name": "stdout",
     "output_type": "stream",
     "text": [
      "Ai: [0.15355681 0.3498256  1.09375913 2.07505954 3.36080423 5.04568727]\n",
      "Bi: [0.07693285 0.08591347 0.12979915 0.18030889 0.23187907 0.28866804]\n"
     ]
    }
   ],
   "source": [
    "wi = component_properties['wi']\n",
    "w_a = 0.42748020\n",
    "w_b = 0.08664035\n",
    "mi = 0.48+1.574*wi-0.176*wi**2\n",
    "        \n",
    "Ai =(w_a*(1+mi*(1-Tri**0.5))**2*(Pri/Tri**2)).replace(np.nan,0).to_numpy()\n",
    "Bi = ((w_b*Pri)/Tri).to_numpy()\n",
    "print('Ai:',Ai)\n",
    "print('Bi:',Bi)"
   ]
  },
  {
   "cell_type": "code",
   "execution_count": 10,
   "id": "de9aab9c-2e32-41b1-969b-49d914fcaf28",
   "metadata": {},
   "outputs": [
    {
     "name": "stdout",
     "output_type": "stream",
     "text": [
      "A : 0.4328099111773391\n",
      "B : 0.0936326168492695\n"
     ]
    }
   ],
   "source": [
    "#Calculating A and B\n",
    "c = component_properties['composition'].to_numpy()\n",
    "n= len(c)\n",
    "\n",
    "B =  np.sum(c * Bi)\n",
    "\n",
    "A=0\n",
    "for i in range (n):\n",
    "    for j in range (n):\n",
    "        A += (1-d[i,j])*(Ai[i]*Ai[j])**0.5*c[i]*c[j] \n",
    "        \n",
    "print('A :', A)\n",
    "print('B :', B)"
   ]
  },
  {
   "cell_type": "code",
   "execution_count": 9,
   "id": "8151a91e-41f5-4af0-a640-c9ba1c765c15",
   "metadata": {},
   "outputs": [
    {
     "name": "stdout",
     "output_type": "stream",
     "text": [
      "For Pressure: 750.0 and Temperature: -70.0\n",
      "                          A: 0.4328\n",
      "                          B: 0.0936\n",
      "                          Z: [0.50388514+0.j        0.24805743+0.1374512j 0.24805743-0.1374512j]\n",
      "Without imaginery values, Z: 0.5038851411388346\n",
      "                      Z_max: (0.5038851411388346+0j)\n",
      "                      Z_min: (0.24805742943058284-0.13745120376332645j)\n"
     ]
    }
   ],
   "source": [
    "#Calculating Z \n",
    "\n",
    "m1 = 0\n",
    "m2 = 1\n",
    "p=1\n",
    "q=(m1+m2-1)*B-1\n",
    "r=(A+m1*m2*B**2-(m1+m2)*B*(B+1))\n",
    "s=-A*B-m1*m2*B**2*(B+1)\n",
    "\n",
    "Z = np.roots([p, q, r, s])\n",
    "\n",
    "print('For Pressure:',P , 'and', 'Temperature:',T )\n",
    "print('                          A:', round(A,4))\n",
    "print('                          B:', round(B,4))\n",
    "print('                          Z:', Z)\n",
    "for i in range(len(Z)):\n",
    "    if np.isreal(Z[i]):\n",
    "        print('Without imaginery values, Z:', np.real(Z[i]))\n",
    "        \n",
    "print('                      Z_max:', max(Z))\n",
    "print('                      Z_min:', min(Z))"
   ]
  },
  {
   "cell_type": "code",
   "execution_count": null,
   "id": "5d63dc74-7b3a-4b1d-b9b2-fd2e5bcae85b",
   "metadata": {},
   "outputs": [],
   "source": []
  }
 ],
 "metadata": {
  "kernelspec": {
   "display_name": "Python 3 (ipykernel)",
   "language": "python",
   "name": "python3"
  },
  "language_info": {
   "codemirror_mode": {
    "name": "ipython",
    "version": 3
   },
   "file_extension": ".py",
   "mimetype": "text/x-python",
   "name": "python",
   "nbconvert_exporter": "python",
   "pygments_lexer": "ipython3",
   "version": "3.9.13"
  }
 },
 "nbformat": 4,
 "nbformat_minor": 5
}
